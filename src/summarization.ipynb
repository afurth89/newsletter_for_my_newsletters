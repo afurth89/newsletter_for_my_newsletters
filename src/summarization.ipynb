{
 "cells": [
  {
   "cell_type": "markdown",
   "metadata": {},
   "source": [
    "# Markdown Summary: Hugging Face Transformers Summarization Workflow\n",
    "\n",
    "This markdown document provides a summary of the workflow for using Hugging Face Transformers for text summarization. The steps involved in the workflow are as follows:\n",
    "\n",
    "1. Install Dependencies: Install the required dependencies, including the Transformers library, Datasets library, evaluation metrics, and the Accelerate library.\n",
    "\n",
    "2. Load a Dataset: Load the dataset that will be used for training and evaluation. This can be a pre-existing dataset or a custom dataset.\n",
    "\n",
    "3. Preprocess the Data: Preprocess the loaded dataset to prepare it for training. This may involve tasks such as tokenization, splitting into train and test sets, and data augmentation.\n",
    "\n",
    "4. Evaluate: Evaluate the performance of the trained model using evaluation metrics such as ROUGE score. This step helps in assessing the quality of the generated summaries.\n",
    "\n",
    "5. Train: Train the model using the preprocessed dataset. This involves fine-tuning a pre-trained model on the specific summarization task.\n",
    "\n",
    "6. Inference: Use the trained model to generate summaries for new input text. This step allows for the practical application of the summarization model.\n",
    "\n",
    "By following these steps, users can effectively utilize Hugging Face Transformers for text summarization tasks. For detailed instructions and code examples, refer to the official documentation at [https://huggingface.co/docs/transformers/tasks/summarization](https://huggingface.co/docs/transformers/tasks/summarization).\n"
   ]
  },
  {
   "cell_type": "markdown",
   "metadata": {},
   "source": [
    "# Install Dependencies"
   ]
  },
  {
   "cell_type": "code",
   "execution_count": 2,
   "metadata": {},
   "outputs": [
    {
     "name": "stdout",
     "output_type": "stream",
     "text": [
      "Requirement already satisfied: transformers in /Users/andrewfurth/.pyenv/versions/venv/lib/python3.11/site-packages (4.39.1)\n",
      "Requirement already satisfied: datasets in /Users/andrewfurth/.pyenv/versions/venv/lib/python3.11/site-packages (2.18.0)\n",
      "Requirement already satisfied: evaluate in /Users/andrewfurth/.pyenv/versions/venv/lib/python3.11/site-packages (0.4.1)\n",
      "Requirement already satisfied: rouge_score in /Users/andrewfurth/.pyenv/versions/venv/lib/python3.11/site-packages (0.1.2)\n",
      "Collecting accelerate\n",
      "  Downloading accelerate-0.28.0-py3-none-any.whl.metadata (18 kB)\n",
      "Requirement already satisfied: filelock in /Users/andrewfurth/.pyenv/versions/venv/lib/python3.11/site-packages (from transformers) (3.13.3)\n",
      "Requirement already satisfied: huggingface-hub<1.0,>=0.19.3 in /Users/andrewfurth/.pyenv/versions/venv/lib/python3.11/site-packages (from transformers) (0.22.1)\n",
      "Requirement already satisfied: numpy>=1.17 in /Users/andrewfurth/.pyenv/versions/venv/lib/python3.11/site-packages (from transformers) (1.26.4)\n",
      "Requirement already satisfied: packaging>=20.0 in /Users/andrewfurth/.pyenv/versions/venv/lib/python3.11/site-packages (from transformers) (24.0)\n",
      "Requirement already satisfied: pyyaml>=5.1 in /Users/andrewfurth/.pyenv/versions/venv/lib/python3.11/site-packages (from transformers) (6.0.1)\n",
      "Requirement already satisfied: regex!=2019.12.17 in /Users/andrewfurth/.pyenv/versions/venv/lib/python3.11/site-packages (from transformers) (2023.12.25)\n",
      "Requirement already satisfied: requests in /Users/andrewfurth/.pyenv/versions/venv/lib/python3.11/site-packages (from transformers) (2.31.0)\n",
      "Requirement already satisfied: tokenizers<0.19,>=0.14 in /Users/andrewfurth/.pyenv/versions/venv/lib/python3.11/site-packages (from transformers) (0.15.2)\n",
      "Requirement already satisfied: safetensors>=0.4.1 in /Users/andrewfurth/.pyenv/versions/venv/lib/python3.11/site-packages (from transformers) (0.4.2)\n",
      "Requirement already satisfied: tqdm>=4.27 in /Users/andrewfurth/.pyenv/versions/venv/lib/python3.11/site-packages (from transformers) (4.66.2)\n",
      "Requirement already satisfied: pyarrow>=12.0.0 in /Users/andrewfurth/.pyenv/versions/venv/lib/python3.11/site-packages (from datasets) (15.0.2)\n",
      "Requirement already satisfied: pyarrow-hotfix in /Users/andrewfurth/.pyenv/versions/venv/lib/python3.11/site-packages (from datasets) (0.6)\n",
      "Requirement already satisfied: dill<0.3.9,>=0.3.0 in /Users/andrewfurth/.pyenv/versions/venv/lib/python3.11/site-packages (from datasets) (0.3.8)\n",
      "Requirement already satisfied: pandas in /Users/andrewfurth/.pyenv/versions/venv/lib/python3.11/site-packages (from datasets) (2.2.1)\n",
      "Requirement already satisfied: xxhash in /Users/andrewfurth/.pyenv/versions/venv/lib/python3.11/site-packages (from datasets) (3.4.1)\n",
      "Requirement already satisfied: multiprocess in /Users/andrewfurth/.pyenv/versions/venv/lib/python3.11/site-packages (from datasets) (0.70.16)\n",
      "Requirement already satisfied: fsspec<=2024.2.0,>=2023.1.0 in /Users/andrewfurth/.pyenv/versions/venv/lib/python3.11/site-packages (from fsspec[http]<=2024.2.0,>=2023.1.0->datasets) (2024.2.0)\n",
      "Requirement already satisfied: aiohttp in /Users/andrewfurth/.pyenv/versions/venv/lib/python3.11/site-packages (from datasets) (3.9.3)\n",
      "Requirement already satisfied: responses<0.19 in /Users/andrewfurth/.pyenv/versions/venv/lib/python3.11/site-packages (from evaluate) (0.18.0)\n",
      "Requirement already satisfied: absl-py in /Users/andrewfurth/.pyenv/versions/venv/lib/python3.11/site-packages (from rouge_score) (2.1.0)\n",
      "Requirement already satisfied: nltk in /Users/andrewfurth/.pyenv/versions/venv/lib/python3.11/site-packages (from rouge_score) (3.8.1)\n",
      "Requirement already satisfied: six>=1.14.0 in /Users/andrewfurth/.pyenv/versions/venv/lib/python3.11/site-packages (from rouge_score) (1.16.0)\n",
      "Requirement already satisfied: psutil in /Users/andrewfurth/.pyenv/versions/venv/lib/python3.11/site-packages (from accelerate) (5.9.8)\n",
      "Collecting torch>=1.10.0 (from accelerate)\n",
      "  Downloading torch-2.2.2-cp311-none-macosx_11_0_arm64.whl.metadata (25 kB)\n",
      "Requirement already satisfied: aiosignal>=1.1.2 in /Users/andrewfurth/.pyenv/versions/venv/lib/python3.11/site-packages (from aiohttp->datasets) (1.3.1)\n",
      "Requirement already satisfied: attrs>=17.3.0 in /Users/andrewfurth/.pyenv/versions/venv/lib/python3.11/site-packages (from aiohttp->datasets) (23.2.0)\n",
      "Requirement already satisfied: frozenlist>=1.1.1 in /Users/andrewfurth/.pyenv/versions/venv/lib/python3.11/site-packages (from aiohttp->datasets) (1.4.1)\n",
      "Requirement already satisfied: multidict<7.0,>=4.5 in /Users/andrewfurth/.pyenv/versions/venv/lib/python3.11/site-packages (from aiohttp->datasets) (6.0.5)\n",
      "Requirement already satisfied: yarl<2.0,>=1.0 in /Users/andrewfurth/.pyenv/versions/venv/lib/python3.11/site-packages (from aiohttp->datasets) (1.9.4)\n",
      "Requirement already satisfied: typing-extensions>=3.7.4.3 in /Users/andrewfurth/.pyenv/versions/venv/lib/python3.11/site-packages (from huggingface-hub<1.0,>=0.19.3->transformers) (4.10.0)\n",
      "Requirement already satisfied: charset-normalizer<4,>=2 in /Users/andrewfurth/.pyenv/versions/venv/lib/python3.11/site-packages (from requests->transformers) (3.3.2)\n",
      "Requirement already satisfied: idna<4,>=2.5 in /Users/andrewfurth/.pyenv/versions/venv/lib/python3.11/site-packages (from requests->transformers) (3.6)\n",
      "Requirement already satisfied: urllib3<3,>=1.21.1 in /Users/andrewfurth/.pyenv/versions/venv/lib/python3.11/site-packages (from requests->transformers) (2.2.1)\n",
      "Requirement already satisfied: certifi>=2017.4.17 in /Users/andrewfurth/.pyenv/versions/venv/lib/python3.11/site-packages (from requests->transformers) (2024.2.2)\n",
      "Collecting sympy (from torch>=1.10.0->accelerate)\n",
      "  Using cached sympy-1.12-py3-none-any.whl.metadata (12 kB)\n",
      "Collecting networkx (from torch>=1.10.0->accelerate)\n",
      "  Downloading networkx-3.2.1-py3-none-any.whl.metadata (5.2 kB)\n",
      "Requirement already satisfied: jinja2 in /Users/andrewfurth/.pyenv/versions/venv/lib/python3.11/site-packages (from torch>=1.10.0->accelerate) (3.1.3)\n",
      "Requirement already satisfied: click in /Users/andrewfurth/.pyenv/versions/venv/lib/python3.11/site-packages (from nltk->rouge_score) (8.1.7)\n",
      "Requirement already satisfied: joblib in /Users/andrewfurth/.pyenv/versions/venv/lib/python3.11/site-packages (from nltk->rouge_score) (1.3.2)\n",
      "Requirement already satisfied: python-dateutil>=2.8.2 in /Users/andrewfurth/.pyenv/versions/venv/lib/python3.11/site-packages (from pandas->datasets) (2.9.0.post0)\n",
      "Requirement already satisfied: pytz>=2020.1 in /Users/andrewfurth/.pyenv/versions/venv/lib/python3.11/site-packages (from pandas->datasets) (2024.1)\n",
      "Requirement already satisfied: tzdata>=2022.7 in /Users/andrewfurth/.pyenv/versions/venv/lib/python3.11/site-packages (from pandas->datasets) (2024.1)\n",
      "Requirement already satisfied: MarkupSafe>=2.0 in /Users/andrewfurth/.pyenv/versions/venv/lib/python3.11/site-packages (from jinja2->torch>=1.10.0->accelerate) (2.1.5)\n",
      "Collecting mpmath>=0.19 (from sympy->torch>=1.10.0->accelerate)\n",
      "  Using cached mpmath-1.3.0-py3-none-any.whl.metadata (8.6 kB)\n",
      "Downloading accelerate-0.28.0-py3-none-any.whl (290 kB)\n",
      "\u001b[2K   \u001b[90m━━━━━━━━━━━━━━━━━━━━━━━━━━━━━━━━━━━━━━━━\u001b[0m \u001b[32m290.1/290.1 kB\u001b[0m \u001b[31m7.1 MB/s\u001b[0m eta \u001b[36m0:00:00\u001b[0ma \u001b[36m0:00:01\u001b[0m\n",
      "\u001b[?25hDownloading torch-2.2.2-cp311-none-macosx_11_0_arm64.whl (59.7 MB)\n",
      "\u001b[2K   \u001b[90m━━━━━━━━━━━━━━━━━━━━━━━━━━━━━━━━━━━━━━━━\u001b[0m \u001b[32m59.7/59.7 MB\u001b[0m \u001b[31m56.7 MB/s\u001b[0m eta \u001b[36m0:00:00\u001b[0m00:01\u001b[0m00:01\u001b[0m\n",
      "\u001b[?25hDownloading networkx-3.2.1-py3-none-any.whl (1.6 MB)\n",
      "\u001b[2K   \u001b[90m━━━━━━━━━━━━━━━━━━━━━━━━━━━━━━━━━━━━━━━━\u001b[0m \u001b[32m1.6/1.6 MB\u001b[0m \u001b[31m71.3 MB/s\u001b[0m eta \u001b[36m0:00:00\u001b[0m\n",
      "\u001b[?25hUsing cached sympy-1.12-py3-none-any.whl (5.7 MB)\n",
      "Using cached mpmath-1.3.0-py3-none-any.whl (536 kB)\n",
      "Installing collected packages: mpmath, sympy, networkx, torch, accelerate\n",
      "Successfully installed accelerate-0.28.0 mpmath-1.3.0 networkx-3.2.1 sympy-1.12 torch-2.2.2\n"
     ]
    }
   ],
   "source": [
    "# Transformers installation\n",
    "! pip install transformers datasets evaluate rouge_score accelerate 'transformers[torch]' -U"
   ]
  },
  {
   "cell_type": "markdown",
   "metadata": {},
   "source": [
    "## Login to your Hugging Face account \n",
    "So you can upload and share your model with the community. When prompted, enter your token to login\n",
    "\n",
    "Inside the venv in the terminal, run `huggingface-cli login`, and enter the token from https://huggingface.co/settings/tokens"
   ]
  },
  {
   "cell_type": "markdown",
   "metadata": {},
   "source": [
    "# Load a Pretrained model\n",
    "\n",
    "https://huggingface.co/sshleifer/distilbart-cnn-12-6\n",
    "\n",
    "Pulling from https://huggingface.co/docs/transformers/model_doc/bart#transformers.BartForConditionalGeneration"
   ]
  },
  {
   "cell_type": "code",
   "execution_count": 18,
   "metadata": {},
   "outputs": [
    {
     "name": "stderr",
     "output_type": "stream",
     "text": [
      "Truncation was not explicitly activated but `max_length` is provided a specific value, please use `truncation=True` to explicitly truncate examples to max length. Defaulting to 'longest_first' truncation strategy. If you encode pairs of sequences (GLUE-style) with the tokenizer you can select this strategy more precisely by providing a specific strategy to `truncation`.\n"
     ]
    },
    {
     "data": {
      "text/plain": [
       "'The price of Bitcoin against Tether’s USDT stablecoin fell to as low as $8,900 on BitMEX late Monday, while the largest cryptocurrency was trading above $66,000 on rival venues. BitMex said the company investigated the incident and found evidence of “aggressive selling behavior involving a very small number of accounts”'"
      ]
     },
     "execution_count": 18,
     "metadata": {},
     "output_type": "execute_result"
    }
   ],
   "source": [
    "from transformers import AutoTokenizer, BartForConditionalGeneration\n",
    "\n",
    "model = BartForConditionalGeneration.from_pretrained(\"facebook/bart-large-cnn\")\n",
    "tokenizer = AutoTokenizer.from_pretrained(\"facebook/bart-large-cnn\")\n",
    "\n",
    "ARTICLE_TO_SUMMARIZE = (\n",
    "    \" The US has about a dozen stock exchanges. Each stock trades on each stock exchange. Every so often the price of a stock on one exchange will Bitcoin flash crash The US has about a dozen stock exchanges. Each stock trades on each stock exchange. Every so often the price of a stock on one exchange will be slightly lower than the price on another exchange. Books\\u00a0have been written about this fact, and people have made long and lucrative careers from it. But we are talking about small differences\\u00a0in the grand scheme of things. If I were to tell you \\u201cApple Inc. stock has been trading at $174 per share on the NYSE Arca exchange for the last hour, but it\\u2019s been trading at $175 on Nasdaq the whole time,\\u201d you would not believe me; that is barely even a coherent sentence. For one thing, there are rules to prevent that. But also, I mean, this stuff is all on computers, and these prices are all visible, and there are people who have lucrative careers noticing any differences. If Apple was trading at $174 on Arca and at $175 on Nasdaq, those people would buy it on Arca and sell it on Nasdaq, making a risk-free instantaneous profit. And so many of them would do this so quickly that the prices would more or less instantly converge. Again, at a certain scale \\u2014 for the arbitrageurs who make a career of this stuff \\u2014\\u00a0this is\\u00a0not true; there are milliseconds when you can buy at $174.99 one place and sell at $175 another place and make a quick profit. But at human scales it is true enough; there are not\\u00a0hours\\u00a0when\\u00a0you can buy at $174 one place and sell at $175 another. But that\\u2019s only true because there are a lot of those arbitrageurs with a lot of capital and fast computers, and because a lot of technological and regulatory work has gone into making sure that all of those arbitrageurs can connect to all the stock exchanges and see their prices and move their capital quickly to whatever exchange has cheap stock for sale. You could imagine a different system. You could imagine a system where NYSE Arca is downtown and Nasdaq is in midtown and you have to take a horse and buggy between them to trade, and you can\\u2019t use the phone, and there\\u2019s just one of you; then maybe prices would diverge by dollars for hours. That\\u2019s not too hard to imagine \\u2014\\u00a0it was roughly true 100 years ago, though stocks traded on fewer venues back then \\u2014\\u00a0but it does not really reflect our modern computerized markets. And then there\\u2019s Bitcoin! The price of Bitcoin against Tether\\u2019s USDT stablecoin fell to as low as $8,900 on BitMEX late Monday, while the largest cryptocurrency was trading above $66,000 on rival venues. The price of Bitcoin on the exchange quickly recovered and has been trading in-line with the rest of the market since. A spokesperson for BitMEX said the company investigated the incident and found evidence of \\u201caggressive selling behavior involving a very small number of accounts that exceeded expected market ranges,\\u201d adding that its systems had operated normally and all user funds are safe. BitMEX is \\u201cinvestigating potential misconduct by traders on our Bitcoin-USDT Spot market,\\u201d the exchange said in\\u00a0a post\\u00a0on the X social-media platform on Tuesday. The exchange does not employ internal market makers and the orders to sell Bitcoin \\u201cwere simply too big and frequent for independent market makers and other traders to react to,\\u201d according to the same post. The incident had no impact on BitMEX\\u2019s derivatives markets and no liquidations were triggered by it, the post added. The best guess appears to be that this was one big whale, or perhaps a few, dumping Bitcoin steadily over a few hours: \\u201cSomeone just dumped 400+ BTC over 2 hours in 10-50 BTC clips on the XBTUSDT pair on Bitmex eating 30%+ slippage. They must've lost $4m+ at least,\\u201d pseudonymous crypto community member \\u201csyq\\u201d wrote. \\u201cI'm guessing that they're done (for now?). Total volume so far is just shy of 1,000 BTC over 3.5 hours with a low of $8,900. Now BitMEX have disabled withdrawals,\\u201d they added. The exceptionally low prices did not persist uninterrupted\\u00a0for hours at a time or anything, but there seems to have been a pretty intense 10-minute period of\\u00a0low prices, and in any case each\\u00a0time\\u00a0this whale dumped 10 to 50 Bitcoin at a time, it got prices far lower than the prints on any other exchange. And, you know, if I were making markets in Bitcoin on Coinbase, and I noticed that Bitcoin was selling for $8,900 on BitMEX, I would simply get myself over to BitMEX and start bidding, like, $9,000 for Bitcoin. That\\u2019s free money! Why didn\\u2019t anyone? Part of the answer is probably that they did; this gap eventually closed, though from BitMEX\\u2019s posting it seems that the gap closed more because the whale stopped selling than because anyone stepped in to buy. But another part of the answer is that crypto exchanges are fundamentally different businesses from stock exchanges. In the US, if you buy stock on a stock exchange, you don\\u2019t\\u00a0send the money to the stock exchange. You send the money to the seller (and the seller sends the stock to you) through a clearinghouse; there\\u2019s one main clearinghouse for all US stock trades, and every exchange and broker is hooked up to it. If you are an arbitrageur looking to buy $100 million worth of stock, you don\\u2019t have to park $100 million at\\u00a0each of the 12 exchanges so you can trade on whichever one has the lowest price. You park $100 million at your one brokerage firm, and the broker handles settlement for you wherever you actually execute the trade. [1] In crypto, it is the norm for exchanges to hold your money for you. One thing that this means is that there is a long and comical history of exchanges losing or stealing that money. Another, related thing that it means is that traders have to evaluate the credit risk of exchanges: You do not want to deposit $100 million on an exchange that will go and lose or steal\\u00a0it. [2] There is high-stakes credit due diligence each time you start trading on a new exchange. Also though there is just an operational issue: Even if an exchange\\u2019s credit is impeccable, if you want to be in a position to buy $100 million of Bitcoin on that exchange, you have to deposit $100 million on that exchange, which means putting it there and not elsewhere. BitMEX\\u2019s post about the flash crash says: \\u201cYes, we are investigating potential misconduct by traders on our Bitcoin-USDT Spot market (Did you even know we offer Spot trading?),\\u201d with a little side-eye emoji in that parenthetical. The point is that BitMEX\\u2019s spot markets are not very important, to BitMEX or its customers or spot Bitcoin traders generally.\\u00a0BitMEX is \\u201cThe OG Exchange for Crypto Derivative Trading\\u201d and reports relatively tiny amounts of spot trading relative to its derivative markets. If you are a market maker trading Bitcoin for dollars (or USDT), you are probably thinking about using your capital and technology efficiently to make markets on\\u00a0Binance and Coinbase and half a dozen other big spot Bitcoin exchanges. BitMEX\\u2019s spot market might be a bit of an afterthought. And if Bitcoin goes on a drastic sale on BitMEX for 10 minutes, you might not have time to get there and buy it. One possibility \\u2014\\u00a0as BitMEX says \\u2014 is that this was attempted market manipulation. BitMEX is a big crypto\\u00a0derivatives\\u00a0market with a small crypto spot market attached to it. If you are short some Bitcoin derivatives contract that pays out based on the price of Bitcoin, and you sell Bitcoin to drive down the price, you will make money on your short derivative trade even as you lose money on\\u00a0your spot sales. If your derivative contract is very big, and your spot sales are very small \\u2014\\u00a0because it doesn\\u2019t take much to drive down the price in the spot market where you are trading \\u2014\\u00a0then this can be a good trade. If that was the idea, though, it didn\\u2019t work, in part because it\\u2019s not like BitMEX\\u2019s derivatives settle based on\\u00a0its\\u00a0spot market. [3] BitMEX said: This incident had NO impact on our billion-dollar derivatives markets. It did not move mark prices, and no liquidations were triggered by it because our indices are independent and battle-tested. I suppose one other possibility is that it was a fat finger, or the equivalent: Someone owned a lot of Bitcoin on BitMEX and wanted to sell them. There are good ways to do that: Sell them slowly over time, maybe. Or withdraw them from BitMEX and\\u00a0deposit them on another exchange with a larger and more liquid spot market and more market makers, so your big sales will have less impact. But that takes time and effort; the Bitcoin market is not knitted together the way the stock market is. If you want to sell all your Bitcoins all at once on the exchange they happen to be on, that can cost you. Yellow You could have a model like this: Every company has a capital structure with an order of seniority. Secured debt generally gets paid first, followed by unsecured debt, followed by preferred stock, followed by common stock, etc.\\tEvery so often, some weird event flips some part of\\u00a0the seniority, so that people who would normally get paid back first get pushed to the back of the line, and people who would normally be at the back of the line move up.\\tYou should try to (1) anticipate (or cause!) those events, (2) buy the stuff that will move up and (3) avoid the stuff that will move down. Probably the most notable recent case is Credit Suisse Group AG\\u2019s additional tier 1 capital securities. These AT1s were a form of subordinated debt that ranked senior to common stock in the capital structure, as Credit Suisse\\u2019s disclosures and presentations frequently said. But they had provisions saying that in certain circumstances \\u2014\\u00a0regulatory capital falling below a trigger, or certain national bailouts \\u2014\\u00a0they would be\\u00a0disappear, and it was not\\u00a0necessarily\\u00a0true that the common\\u00a0stock would disappear in those circumstances. And in fact, when Credit Suisse was acquired by UBS Group AG last year in a regulator-driven shotgun marriage, (1) the common stock got something and (2) the AT1s got nothing. If you had owned the senior AT1s a day before the merger, you would have been smart to sell them and swap into the junior common stock, because that got paid and the AT1s didn\\u2019t. This turned out to be very controversial, a lot of people still disagree that the AT1s should have been zeroed, and there are lawsuits. This is a pretty normal feature of this model: Seniority is rarely flipped in some clean, obvious and noncontroversial way; somebody will always sue. (Some other recent examples share that feature: Generically, there\\u2019s a company, it has debt, and some new or junior creditors strike a deal with the company to give it new money in exchange for being made more senior than the previously senior creditors. The creditors left out of the deal sue, claiming that this is not allowed.) Last year, Yellow Corp., the trucking company, filed for bankruptcy. A week before the bankruptcy, an investment firm called MFN Partners paid something like $23 million to buy a ton of Yellow stock, which seemed like a weird choice: Yellow\\u2019s bankruptcy was\\u00a0extremely\\u00a0well telegraphed, and generally when a company goes bankrupt its stock becomes worthless. But in fact Yellow\\u2019s assets (largely a real estate portfolio) turned out to be more valuable than its debt, there is money left over, and shareholders could get hundreds of millions of dollars back, making this a good trade for MFN. Or not. Bloomberg\\u2019s Steven Church reports: MFN Partners is the single biggest stockholder of Yellow, which filed bankruptcy last year after failing to win concessions from its union drivers. The company has been liquidating its valuable portfolio of real estate under court oversight and that process has brought in more than initially expected. The way things are going, MFN and other shareholders including the US government could share a surplus in the range of hundreds of millions of dollars. But they\\u2019ll first need to step over pension funds, which have argued they should get the cash because Yellow ditched its retirement obligations in bankruptcy. \\u2026 The pension funds claim that because the trucker shut down and fired tens of thousands of unionized workers, Yellow must kick in at least $582 million to cover future retirement payments, according to court papers. They claim the fight should be handled in private arbitration; the hedge fund says it should play out quickly and in open court, which would get everyone paid faster. One way to think about this is my model above: Ordinarily, when it is a going concern operating its business normally, a company has to pay its pension obligations. Those pension obligations are senior to the common stock; the shareholders only get the profits after the pension obligations are paid. But in bankruptcy, perhaps, that flips: Perhaps Yellow can walk away from its pension obligations for $0, leaving enough money to pay shareholders. On that model, buying the stock a week before the bankruptcy was a good trade: The stock was junior to the debt and pensions and so worth roughly nothing, but\\u00a0in bankruptcy\\u00a0it could ditch the pensions and become worth more. This is not the only model, though, and the pension funds and the US\\u00a0Pension Benefit Guarantee Corp. hotly dispute it. The dispute is actually kind of weird.\\u00a0Yellow\\u2019s unionized drivers are members of various large, union, multiemployer pensions; those pensions are underfunded; and Yellow had contractual obligations to contribute to those pensions. If it stopped doing so and withdrew from the pensions, it would have to put in additional money to cover the underfunded pension liabilities, and those withdrawal liabilities could be as much as $6.5 billion, Yellow itself estimated. It went bankrupt in large part because of a dispute with its unions over these pensions, so it stopped contributing in bankruptcy and\\u00a0the pensions filed claims\\u00a0for the withdrawal liability. But\\u00a0in 2021, the US government bailed out the pension funds as part of the American Rescue Plan. Now they have plenty of money, so Yellow argues that they are not underfunded, so it should have no withdrawal liability: \\u201c[The pensions] cannot ignore the [ARP bailout] or feign a need to allocate to the Debtors an attributable share of [unfunded vested benefits] that do not exist, at the expense of the Debtors\\u2019unsecured creditors and equity holders.\\u201d The pensions, and the\\u00a0PBGC \\u2014\\u00a0the government agency that insures pensions \\u2014\\u00a0argue, in effect,\\u00a0\\u201coh come on it could not possibly work that way, you can\\u2019t get out of your pension obligations because of a government bailout of those pensions.\\u201d But it\\u2019s worth a shot! Team lift Famously, financial services firms are places where \\u201cthe assets leave in the elevators each evening.\\u201d I\\u00a0mean, this is a thing that you say if you work in financial services. It is flattering to you. It is not always entirely true. If you work in, like, private credit, arguably a lot of the assets are loans. Billions of dollars of loans, which do not take the elevator. Perhaps you run a fund, though, and the loans are on the balance sheet of the fund, and your firm\\u2019s assets are just you and some fees.\\u00a0Anyway you\\u2019re still pretty important. How important? One possible answer is, like, \\u201cif an acquirer wanted to buy your firm, it would pay a premium to the value of the loans\\u00a0in order to get you and your talents and relationships and deal pipeline.\\u201d An even more flattering answer is \\u201cif an acquirer wanted to buy your firm, it wouldn\\u2019t: It would just hire you, because you are the main asset. The loans would follow, or not, but they\\u2019re a commodity and not that important; what matters is the people.\\u201d Bloomberg\\u2019s\\u00a0Silas Brown, Paula Seligson\\u00a0and John Sage reported last week: Upstart private credit firm Corinthia Global Management approached Barings and parent MassMutual about buying certain Barings assets and overseeing some of its portfolios, after poaching more than 20 people from the firm, according to people with knowledge of the matter. ... The new private credit manager also offered to provide portfolio management services to Barings Global Private Finance, which includes Barings\\u2019 direct lending operations, and assume management of its funds over time, subject to investor and regulatory approvals, the person said. The company also proposed sharing some revenues, the person added. Discussions haven\\u2019t advanced and the two firms are not currently engaged in talks regarding the proposal, the people said. Rude! This week Barings sued: Investment manager Barings sued Corinthia Global Management and former employees Ian Fowler and Kelsey Tucker after the upstart private credit firm poached more than 20 employees in one of the largest team lifts at an alternative asset manager in recent years. The poaching shocked the private credit industry, which has grown to $1.7 trillion in assets under management globally. The industry has expanded quickly as more firms seek exposure to a corner of the loan market that can appear less volatile and offer higher returns, but starting a new asset manager remains difficult given the limited talent pool in the niche. And the Financial Times notes: The raid, which one rival to Barings described as \\u201caggressive\\u201d and a tactic they had never seen before, carries a risk that the loans Barings currently holds are refinanced by other lenders keen to take advantage of the situation. When private credit firms are willingly put up for sale, it is not unusual for a quarter of that firm\\u2019s loan book to be refinanced by rivals. It is potentially more fraught when a situation is hostile, the rival added. \\u201cTypically this would create a run on the portfolio because anyone in those deals would try to refinance them out,\\u201d the person said. \\u201cAnd it raises bigger issues of how do [private equity] sponsors feel about them?\\u201d Barings\\u2019 complaint explains how rude it was: At 5:39 p.m. Eastern time on Friday, March 8 \\u2013 after 10:30 at night in London \\u2013 the founder of Corinthia, Paul Weightman, emailed Roger Crandall, the chairman and chief executive officer of Barings\\u2019 parent company, Massachusetts Mutual Life Insurance Company (\\u201cMassMutual\\u201d), referencing Mr. Wheeler\\u2019s resignation and requesting to arrange a time to speak on Saturday, March 9. On the morning of March 9, Mr. Weightman again emailed Mr. Crandall threatening that the impending departure of \\u201cthe senior managers will create a range of issues for the Barings Private Credit business\\u201d and attaching an unsolicited term sheet pursuant to which Corinthia sought to assume responsibility for Barings\\u2019 entire GPF business, make offers of employment to all employees of the GPF group and have Barings release all of those employees from their restrictive covenants, and purchase the GPF portfolio and business for pennies on the dollar. The Corinthia term sheet went so far as to provide that Barings would appoint Corinthia as the sub-investment advisor for Barings\\u2019 managed funds and pay Corinthia a portion of the management fees earned by Barings on the GPF funds. Once you have the people, the loans are worth pennies on the dollar. Barings argues that its former employees are breaching their non-solicitation and confidentiality agreements, and you get a sense of how important those agreements are. If the value of the business is just in the employees\\u2019 knowledge and relationships, and they can take that knowledge and those relationships with them, then what else did Barings own? Shareholder Commons Ahh I love these guys, I sometimes think that they are just in business to entertain me: In advance of the 2024 proxy season, The Shareholder Commons (TSC), a non-profit advocate for diversified investors, has published Portfolios on the Ballot 2024, the first publication specifically designed to help investors vote their proxies on a systems-first basis. Portfolios on the Ballot flags initiatives designed to protect the social and environmental systems that support all the companies in a diversified portfolio. ... \\u201cThis year, we have collected dozens of shareholder initiatives that aim to protect diversified investors\\u2019 common interests in protecting the systems that underlie a thriving economy,\\u201d says Rick Alexander, the CEO of The Shareholder Commons. \\u201cThe sheer number of initiatives illustrates the growing interest of investors in addressing environmental and social issues from a systemic perspective. This reflects an evolution in shareholder stewardship away from a purely single company focus.\\u201d The theory here is that\\u00a0if you are a broadly diversified shareholder, and you own stock in Company X, and Company X is doing something that will increase its profits by $100 but will reduce the profits of your other companies by $110, you should tell Company X to knock it off. This theory makes complete sense, though it is often hard to know how to implement it: It\\u2019s rarely obvious how Company X\\u2019s actions will affect the total value of\\u00a0all other\\u00a0companies. But the Shareholder Commons takes an expansive, imaginative view. For instance: One of the proposals we flag asks the Board of Alphabet (GOOG; GOOGL) to address risks from the use of artificial intelligence. Rather than simply arguing that this will lead to higher returns at Alphabet itself, the proponent argues, \\u201cWe believe that shareholders, many of whom are widely diversified and may feel the impacts of the potential negative externalities of Alphabet\\u2019s AI activities throughout their investment portfolios, would benefit from improved oversight.\\u201d Another asks Shell PLC to align its greenhouse gas emissions targets with the goal of the Paris Agreement, arguing that \\u201c[a] vote for this proposal is warranted by investors who seek to ensure a long-term future for the Company and to protect the value of their entire investment portfolios.\\u201d I mean it\\u2019s probably the case that powerful artificial intelligence will put some companies out of business? Is that\\u00a0Alphabet\\u2019s\\u00a0problem? Not in a traditional sense, but arguably it is Alphabet\\u2019s\\u00a0shareholders\\u2019\\u00a0problem. Things happen Reddit, Shareholders Guide IPO Price at Top of Range or Above. Russian jet insurance dispute. How Hertz\\u2019s bets on Tesla and a Goldman veteran veered off course. Sam Bankman-Fried Says 50-Year Sentence Only Suitable for a \\u2018Super Villain.\\u2019 The Era of No-Brainer 5% Returns on Cash Is Ending. George Lucas Endorses Disney and CEO Bob Iger in Proxy Fight: \\u2018Creating Magic Is Not for Amateurs.\\u2019 Sports Illustrated Finds Publisher for Print Edition. U.S. No Longer Ranks Among World\\u2019s 20 Happiest Countries. Bentley Buyers Are Splashing Out \\u20ac39,000 on Options for Each Car.\\u00a0Real estate agent accidentally burned down house ahead of open house. If you'd like to get\\u00a0Money\\u00a0Stuff\\u00a0in handy email form, right in your inbox, please\\u00a0subscribe at this link. Or you can subscribe to Money Stuff and other great Bloomberg newsletters here. Thanks! [1] Even that is an exaggeration; if you're a big trading firm, probably you park much less of your cash at your broker, and the broker extends you credit so you can settle your trades. [2] Here\\u2019s the BitMEX web page explaining how it keeps the money safe. The New York Stock Exchange does not have a similar page! [3] Here\\u2019s BitMEX\\u2019s table of how it calculates index prices, many of which assign zero weight to its own spot market. Follow Us Get the newsletter Like getting this newsletter? Subscribe to Bloomberg.com for unlimited access to trusted, data-driven journalism and subscriber-only insights. Before it\\u2019s here, it\\u2019s on the\\u00a0Bloomberg\\u00a0Terminal.\\u00a0Find out more about how the Terminal delivers information and analysis that financial professionals can\\u2019t find anywhere else.\\u00a0Learn more. Want to sponsor this newsletter? Get in touch here. You received this message because you are subscribed to Bloomberg's Money Stuff newsletter. Unsubscribe | Bloomberg.com | Contact Us | Bloomberg L.P. 731 Lexington, New York, NY, 10022  \"\n",
    ")\n",
    "inputs = tokenizer([ARTICLE_TO_SUMMARIZE], max_length=1024, return_tensors=\"pt\")\n",
    "\n",
    "# Generate Summary\n",
    "summary_ids = model.generate(inputs[\"input_ids\"], num_beams=2, min_length=0)\n",
    "tokenizer.batch_decode(summary_ids, skip_special_tokens=True, clean_up_tokenization_spaces=False)[0]"
   ]
  }
 ],
 "metadata": {
  "kernelspec": {
   "display_name": "venv",
   "language": "python",
   "name": "python3"
  },
  "language_info": {
   "codemirror_mode": {
    "name": "ipython",
    "version": 3
   },
   "file_extension": ".py",
   "mimetype": "text/x-python",
   "name": "python",
   "nbconvert_exporter": "python",
   "pygments_lexer": "ipython3",
   "version": "3.11.0"
  }
 },
 "nbformat": 4,
 "nbformat_minor": 2
}
